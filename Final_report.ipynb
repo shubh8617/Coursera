{
 "cells": [
  {
   "cell_type": "markdown",
   "metadata": {},
   "source": [
    "# Capstone project week 4 Peer Graded Assignment"
   ]
  },
  {
   "cell_type": "markdown",
   "metadata": {},
   "source": [
    "## Toronto the city for business and trade"
   ]
  },
  {
   "cell_type": "markdown",
   "metadata": {},
   "source": [
    "### Introduction to the Problem"
   ]
  },
  {
   "cell_type": "markdown",
   "metadata": {},
   "source": [
    "#### About the city Toronto"
   ]
  },
  {
   "cell_type": "markdown",
   "metadata": {},
   "source": [
    "Toronto is the provincial capital of Ontario and the most populous city in Canada, with a population of 2,731,571 in 2016. Current to 2016, the Toronto census metropolitan area (CMA), of which the majority is within the Greater Toronto Area (GTA), held a population of 5,928,040, making it Canada's most populous CMA. Toronto is the fastest growing city in North America, and is the anchor of an urban agglomeration, known as the Golden Horseshoe in Southern Ontario, located on the northwestern shore of Lake Ontario. Toronto is an international centre of business, finance, arts, and culture, and is recognized as one of the most multicultural and cosmopolitan cities in the world."
   ]
  },
  {
   "cell_type": "markdown",
   "metadata": {},
   "source": [
    "#### Business Plan"
   ]
  },
  {
   "cell_type": "markdown",
   "metadata": {},
   "source": [
    "Toronto is a city of business and trade, a billionaire guy from India is coming to invest in some business in Toronto after seeing the potential of the city and the growth rate he becomes sure that Toronto is the right place to invest his money but the problem is that he is unsure in which field he want to invest money like in the field of restaurants, hotels, shopping complexes, cafes and many more. So he asks a team to look for all the fields mentioned above and give him an idea which field is good to invest the parameters for judging can be different just like if he looks for restaurants then it depends on where it is located how is the popularity of that restaurant the services provided to the customers if the response is good this will lead the businessman buying the restaurant and is same with other fields. We'll be using Foursquare API to analyze different fields such as restaurants, hotels, cafes, shopping complex and check out their neighbourhood in the city of Toronto and also the businessman is coming to take some good memories of canada back with him so he is coming with some professional photographers and it's an intended request of the businessman that it will be more preferable if the fields for which he is looking for is near some beautiful landscapes. So the main purpose is to make a list of places of landscape in Toronto, including the nearest restaurants, cafes, and shopping stores for each place."
   ]
  },
  {
   "cell_type": "markdown",
   "metadata": {},
   "source": [
    "#### Data Section"
   ]
  },
  {
   "cell_type": "markdown",
   "metadata": {},
   "source": [
    "\n",
    "The data used in this project is provided by Foursquare location data. All the data of the restaurants,hotels,cafes are taken out with the help of Foursquare API. We will also use Foursquare location data to find the details of the neighbours of that particular region."
   ]
  },
  {
   "cell_type": "markdown",
   "metadata": {},
   "source": [
    "#### Methodology"
   ]
  },
  {
   "cell_type": "markdown",
   "metadata": {},
   "source": [
    "The methodology basically means by which methods you have came up to the solutions in this case it contains several steps which include:\n",
    "\n",
    "1- Loading the dataset of different neighbors with the help of foursquare API.\n",
    "\n",
    "2- Examine and analyze the findings.\n",
    "\n",
    "3- Understand the correlation between different fields to determine which field is the best for the businessman for investing his money.\n",
    "\n",
    "4- Determine which field is statistically more profitable by using different visualization means.\n",
    "\n",
    "5- Is the model we created looking feasible on map and an interpretation can be taken out if we analyze the different field on the maps such as by seeing the maps of cafe,hotels,restaurants and so on.\n",
    "\n",
    "6- The main aim should be to provide the businessman with the best deal.\n",
    "\n",
    "7- Traning our model set so that when a next invested comes it can act like a prototype model and we can add data to reterive the solutions."
   ]
  },
  {
   "cell_type": "markdown",
   "metadata": {},
   "source": [
    "#### Exploratory data analysis"
   ]
  },
  {
   "cell_type": "markdown",
   "metadata": {},
   "source": [
    "In this we first gathered the data with the help of Foursquare location data and put it in use by creating different data frames.\n",
    "We created dataframes of different fields such as restaurants, hotels,cafes,shopping malls.\n",
    "The dataframe consisted all the necessary information about the particular fields such as in case of hotels the name of the hotel the neighbors of the hotel, the latitute and longitude of the hotel where they are located at and all the stuffs that are required to make a clear visualization for the busniessman to let him select his favourite field for investing money.\n",
    "To be more peculiar with the visualizations we've created two maps in the notebook which acutally are clusters of the different field and are compared with each other to give a broader idea which field is more suitable to invest money on.\n",
    "Machine learning is basically used for the means of clustering of different fields in the map. We've used k-means clustering here"
   ]
  },
  {
   "cell_type": "markdown",
   "metadata": {},
   "source": [
    "#### Results"
   ]
  },
  {
   "cell_type": "markdown",
   "metadata": {},
   "source": [
    "In the result the businessman is finally able to decide on which field he want to invest his money on by easily visualizing huge data by the easy means of data science.He is also able to analyze the neighbors of the landscapes present in the city of Toronto,Canada. It can be taken up as a very good model to analyze which fields are best to put your money on in the culturally diverse city of canada. We can do the same for any other place by creating a clean picture of the data in front of the investers so that they can choose. Data visualization plays a very important role here as you might have heard that pictures create more impact on a human mind than compared to writings. So putting up a clear frame of picture in front of the investers made it easier for them to choose.\n",
    "\n"
   ]
  },
  {
   "cell_type": "code",
   "execution_count": null,
   "metadata": {},
   "outputs": [],
   "source": []
  }
 ],
 "metadata": {
  "kernelspec": {
   "display_name": "Python 3",
   "language": "python",
   "name": "python3"
  },
  "language_info": {
   "codemirror_mode": {
    "name": "ipython",
    "version": 3
   },
   "file_extension": ".py",
   "mimetype": "text/x-python",
   "name": "python",
   "nbconvert_exporter": "python",
   "pygments_lexer": "ipython3",
   "version": "3.6.7"
  }
 },
 "nbformat": 4,
 "nbformat_minor": 4
}
