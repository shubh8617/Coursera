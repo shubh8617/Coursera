{
 "cells": [
  {
   "cell_type": "markdown",
   "metadata": {},
   "source": [
    "# Capstone project week 4 Peer Graded Assignment"
   ]
  },
  {
   "cell_type": "markdown",
   "metadata": {},
   "source": [
    "## Toronto the city for business and trade"
   ]
  },
  {
   "cell_type": "markdown",
   "metadata": {},
   "source": [
    "### Introduction to the Problem"
   ]
  },
  {
   "cell_type": "markdown",
   "metadata": {},
   "source": [
    "#### About the city Toronto"
   ]
  },
  {
   "cell_type": "markdown",
   "metadata": {},
   "source": [
    "Toronto is the provincial capital of Ontario and the most populous city in Canada, with a population of 2,731,571 in 2016. Current to 2016, the Toronto census metropolitan area (CMA), of which the majority is within the Greater Toronto Area (GTA), held a population of 5,928,040, making it Canada's most populous CMA. Toronto is the fastest growing city in North America, and is the anchor of an urban agglomeration, known as the Golden Horseshoe in Southern Ontario, located on the northwestern shore of Lake Ontario. Toronto is an international centre of business, finance, arts, and culture, and is recognized as one of the most multicultural and cosmopolitan cities in the world."
   ]
  },
  {
   "cell_type": "markdown",
   "metadata": {},
   "source": [
    "#### Business Plan"
   ]
  },
  {
   "cell_type": "markdown",
   "metadata": {},
   "source": [
    "Toronto is a city of business and trade, a billionaire guy from India is coming to invest in some business in Toronto after seeing the potential of the city and the growth rate he becomes sure that Toronto is the right place to invest his money but the problem is that he is unsure in which field he want to invest money like in the field of restaurants, hotels, shopping complexes, cafes and many more. So he asks a team to look for all the fields mentioned above and give him an idea which field is good to invest the parameters for judging can be different just like if he looks for restaurants then it depends on where it is located how is the popularity of that restaurant the services provided to the customers if the response is good this will lead the businessman buying the restaurant and is same with other fields. We'll be using Foursquare API to analyze different fields such as restaurants, hotels, cafes, shopping complex and check out their neighbourhood in the city of Toronto and also the businessman is coming to take some good memories of canada back with him so he is coming with some professional photographers and it's an intended request of the businessman that it will be more preferable if the fields for which he is looking for is near some beautiful landscapes. So the main purpose is to make a list of places of landscape in Toronto, including the nearest restaurants, cafes, and shopping stores for each place."
   ]
  },
  {
   "cell_type": "code",
   "execution_count": null,
   "metadata": {},
   "outputs": [],
   "source": []
  }
 ],
 "metadata": {
  "kernelspec": {
   "display_name": "Python 3",
   "language": "python",
   "name": "python3"
  },
  "language_info": {
   "codemirror_mode": {
    "name": "ipython",
    "version": 3
   },
   "file_extension": ".py",
   "mimetype": "text/x-python",
   "name": "python",
   "nbconvert_exporter": "python",
   "pygments_lexer": "ipython3",
   "version": "3.6.7"
  }
 },
 "nbformat": 4,
 "nbformat_minor": 4
}
